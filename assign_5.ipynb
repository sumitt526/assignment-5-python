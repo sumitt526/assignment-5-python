{
 "cells": [
  {
   "cell_type": "code",
   "execution_count": 19,
   "id": "9b2ffd1d-59a9-4453-a0f7-5663ecde87ff",
   "metadata": {},
   "outputs": [
    {
     "data": {
      "text/plain": [
       "[('Virat Kohli', 24936),\n",
       " ('Jack Kallis', 25534),\n",
       " ('Ricky Ponting', 27483),\n",
       " ('Sachin Tendulkar', 34357)]"
      ]
     },
     "execution_count": 19,
     "metadata": {},
     "output_type": "execute_result"
    }
   ],
   "source": [
    "#qsn 1 solution:-\n",
    "\n",
    "new = [('Sachin Tendulkar', 34357), ('Ricky Ponting', 27483), ('Jack Kallis', 25534), ('Virat Kohli', 24936)]\n",
    "sorted(new, key = lambda x : x[1])"
   ]
  },
  {
   "cell_type": "code",
   "execution_count": 21,
   "id": "b345bca8-d18d-40d1-853c-746365e9bf47",
   "metadata": {},
   "outputs": [
    {
     "data": {
      "text/plain": [
       "[1, 4, 9, 16, 25, 36, 49, 64, 81, 100]"
      ]
     },
     "execution_count": 21,
     "metadata": {},
     "output_type": "execute_result"
    }
   ],
   "source": [
    "#qsn 2 solution:-\n",
    "\n",
    "square = [1,2,3,4,5,6,7,8,9,10]\n",
    "list(map(lambda x : x**2, square))"
   ]
  },
  {
   "cell_type": "code",
   "execution_count": 118,
   "id": "c0f152c4-df71-4051-a335-50068f98b33e",
   "metadata": {},
   "outputs": [
    {
     "data": {
      "text/plain": [
       "('1', '2', '3', '4', '5', '6', '7', '8', '9', '10')"
      ]
     },
     "execution_count": 118,
     "metadata": {},
     "output_type": "execute_result"
    }
   ],
   "source": [
    "#qsn 3 solution:-\n",
    "\n",
    "list_1 = [1,2,3,4,5,6,7,8,9,10]\n",
    "def update(x):\n",
    "    '''convert list of int into list of string'''\n",
    "    for i in x:\n",
    "        if type(i) == int:\n",
    "            yield(str(i))\n",
    "\n",
    "\n",
    "tuple(map(lambda list_1 : list_1, update(list_1))) "
   ]
  },
  {
   "cell_type": "code",
   "execution_count": 139,
   "id": "9265c36c-a179-4d89-9729-67c3039ab644",
   "metadata": {},
   "outputs": [
    {
     "data": {
      "text/plain": [
       "15511210043330985984000000"
      ]
     },
     "execution_count": 139,
     "metadata": {},
     "output_type": "execute_result"
    }
   ],
   "source": [
    "#qsn 4 solution:-\n",
    "\n",
    "from functools import reduce\n",
    "l = list(range(1,26))\n",
    "reduce(lambda x, y : x*y , l)"
   ]
  },
  {
   "cell_type": "code",
   "execution_count": 143,
   "id": "a63bcdfc-f422-4a7e-a517-2a4e61f1c921",
   "metadata": {},
   "outputs": [
    {
     "data": {
      "text/plain": [
       "[6, 60, 90, 120]"
      ]
     },
     "execution_count": 143,
     "metadata": {},
     "output_type": "execute_result"
    }
   ],
   "source": [
    "#qsn 5 solution:-\n",
    "\n",
    "l = [2,3,6,9,27,60,90,120,55,46]\n",
    "list(filter(lambda x : x % 2 == 0 and x % 3 == 0, l))"
   ]
  },
  {
   "cell_type": "code",
   "execution_count": 201,
   "id": "32bc8fdf-76d8-4df0-b432-2f1737ef2b3d",
   "metadata": {},
   "outputs": [
    {
     "data": {
      "text/plain": [
       "['php', 'aba', 'radar', 'level']"
      ]
     },
     "execution_count": 201,
     "metadata": {},
     "output_type": "execute_result"
    }
   ],
   "source": [
    "#qsn 6 solution:-\n",
    "f = ['python','php','aba','radar','level']   \n",
    "list(filter(lambda x : x[::-1] == x , f))"
   ]
  },
  {
   "cell_type": "code",
   "execution_count": null,
   "id": "d9f395f0-16c0-40d2-ab9c-c9a849b6ecd8",
   "metadata": {},
   "outputs": [],
   "source": []
  }
 ],
 "metadata": {
  "kernelspec": {
   "display_name": "Python 3 (ipykernel)",
   "language": "python",
   "name": "python3"
  },
  "language_info": {
   "codemirror_mode": {
    "name": "ipython",
    "version": 3
   },
   "file_extension": ".py",
   "mimetype": "text/x-python",
   "name": "python",
   "nbconvert_exporter": "python",
   "pygments_lexer": "ipython3",
   "version": "3.10.8"
  }
 },
 "nbformat": 4,
 "nbformat_minor": 5
}
